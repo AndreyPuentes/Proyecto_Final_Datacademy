{
 "cells": [
  {
   "cell_type": "markdown",
   "source": "# Análisis de los 25 retailers más grandes de Estados Unidos",
   "metadata": {
    "cell_id": "1df879a0-53cd-4031-a50b-2c2fe17304a4",
    "tags": [],
    "is_collapsed": false,
    "deepnote_cell_height": 186,
    "deepnote_cell_type": "text-cell-h1"
   }
  },
  {
   "cell_type": "code",
   "metadata": {
    "tags": [],
    "cell_id": "3347a937-91c3-4305-b06c-213bb2f3bcaf",
    "deepnote_cell_height": 66,
    "deepnote_to_be_reexecuted": false,
    "source_hash": "842fca63",
    "execution_start": 1645831925227,
    "execution_millis": 1,
    "deepnote_cell_type": "code"
   },
   "source": "# Importar librerías aquí\nimport pandas as pd\nimport numpy as np\nimport matplotlib.pyplot as plt\nimport seaborn as sns",
   "outputs": [],
   "execution_count": null
  },
  {
   "cell_type": "code",
   "metadata": {
    "cell_id": "081fdaf2-888a-4a54-9495-467464cfc400",
    "tags": [],
    "deepnote_cell_height": 66,
    "deepnote_to_be_reexecuted": false,
    "source_hash": "cdabf045",
    "execution_start": 1645831928682,
    "execution_millis": 63,
    "deepnote_table_state": {
     "pageSize": 25,
     "pageIndex": 0,
     "filters": [],
     "sortBy": []
    },
    "deepnote_table_loading": false,
    "deepnote_cell_type": "code"
   },
   "source": "# Importar datos aquí\ndf = pd.read_csv('largest_us_retailers.csv')\ndf",
   "outputs": [
    {
     "output_type": "execute_result",
     "execution_count": 125,
     "data": {
      "application/vnd.deepnote.dataframe.v3+json": {
       "column_count": 6,
       "row_count": 25,
       "columns": [
        {
         "name": "Company",
         "dtype": "object",
         "stats": {
          "unique_count": 25,
          "nan_count": 0,
          "categories": [
           {
            "name": "Walmart US",
            "count": 1
           },
           {
            "name": "Kroger",
            "count": 1
           },
           {
            "name": "23 others",
            "count": 23
           }
          ]
         }
        },
        {
         "name": "Sales",
         "dtype": "int64",
         "stats": {
          "unique_count": 25,
          "nan_count": 0,
          "min": "16592",
          "max": "658119",
          "histogram": [
           {
            "bin_start": 16592,
            "bin_end": 80744.7,
            "count": 21
           },
           {
            "bin_start": 80744.7,
            "bin_end": 144897.4,
            "count": 3
           },
           {
            "bin_start": 144897.4,
            "bin_end": 209050.09999999998,
            "count": 0
           },
           {
            "bin_start": 209050.09999999998,
            "bin_end": 273202.8,
            "count": 0
           },
           {
            "bin_start": 273202.8,
            "bin_end": 337355.5,
            "count": 0
           },
           {
            "bin_start": 337355.5,
            "bin_end": 401508.19999999995,
            "count": 0
           },
           {
            "bin_start": 401508.19999999995,
            "bin_end": 465660.89999999997,
            "count": 0
           },
           {
            "bin_start": 465660.89999999997,
            "bin_end": 529813.6,
            "count": 0
           },
           {
            "bin_start": 529813.6,
            "bin_end": 593966.2999999999,
            "count": 0
           },
           {
            "bin_start": 593966.2999999999,
            "bin_end": 658119,
            "count": 1
           }
          ]
         }
        },
        {
         "name": "Stores",
         "dtype": "float64",
         "stats": {
          "unique_count": 23,
          "nan_count": 2,
          "min": "231.0",
          "max": "14250.0",
          "histogram": [
           {
            "bin_start": 231,
            "bin_end": 1632.9,
            "count": 10
           },
           {
            "bin_start": 1632.9,
            "bin_end": 3034.8,
            "count": 6
           },
           {
            "bin_start": 3034.8,
            "bin_end": 4436.700000000001,
            "count": 1
           },
           {
            "bin_start": 4436.700000000001,
            "bin_end": 5838.6,
            "count": 2
           },
           {
            "bin_start": 5838.6,
            "bin_end": 7240.5,
            "count": 0
           },
           {
            "bin_start": 7240.5,
            "bin_end": 8642.400000000001,
            "count": 1
           },
           {
            "bin_start": 8642.400000000001,
            "bin_end": 10044.300000000001,
            "count": 1
           },
           {
            "bin_start": 10044.300000000001,
            "bin_end": 11446.2,
            "count": 0
           },
           {
            "bin_start": 11446.2,
            "bin_end": 12848.1,
            "count": 0
           },
           {
            "bin_start": 12848.1,
            "bin_end": 14250,
            "count": 2
           }
          ]
         }
        },
        {
         "name": "Sales/Avg. Store",
         "dtype": "float64",
         "stats": {
          "unique_count": 23,
          "nan_count": 2,
          "min": "1.56391854",
          "max": "187.7956204",
          "histogram": [
           {
            "bin_start": 1.56391854,
            "bin_end": 20.187088726,
            "count": 9
           },
           {
            "bin_start": 20.187088726,
            "bin_end": 38.810258912,
            "count": 7
           },
           {
            "bin_start": 38.810258912,
            "bin_end": 57.433429098000005,
            "count": 2
           },
           {
            "bin_start": 57.433429098000005,
            "bin_end": 76.056599284,
            "count": 3
           },
           {
            "bin_start": 76.056599284,
            "bin_end": 94.67976947,
            "count": 1
           },
           {
            "bin_start": 94.67976947,
            "bin_end": 113.302939656,
            "count": 0
           },
           {
            "bin_start": 113.302939656,
            "bin_end": 131.926109842,
            "count": 0
           },
           {
            "bin_start": 131.926109842,
            "bin_end": 150.549280028,
            "count": 0
           },
           {
            "bin_start": 150.549280028,
            "bin_end": 169.172450214,
            "count": 0
           },
           {
            "bin_start": 169.172450214,
            "bin_end": 187.7956204,
            "count": 1
           }
          ]
         }
        },
        {
         "name": "Store Count Growth",
         "dtype": "float64",
         "stats": {
          "unique_count": 23,
          "nan_count": 2,
          "min": "-0.05951506245",
          "max": "0.2556621881",
          "histogram": [
           {
            "bin_start": -0.05951506245,
            "bin_end": -0.027997337395000002,
            "count": 3
           },
           {
            "bin_start": -0.027997337395000002,
            "bin_end": 0.003520387659999999,
            "count": 4
           },
           {
            "bin_start": 0.003520387659999999,
            "bin_end": 0.035038112715,
            "count": 6
           },
           {
            "bin_start": 0.035038112715,
            "bin_end": 0.06655583777,
            "count": 2
           },
           {
            "bin_start": 0.06655583777,
            "bin_end": 0.098073562825,
            "count": 5
           },
           {
            "bin_start": 0.098073562825,
            "bin_end": 0.12959128788000002,
            "count": 1
           },
           {
            "bin_start": 0.12959128788000002,
            "bin_end": 0.16110901293500002,
            "count": 1
           },
           {
            "bin_start": 0.16110901293500002,
            "bin_end": 0.19262673799000002,
            "count": 0
           },
           {
            "bin_start": 0.19262673799000002,
            "bin_end": 0.22414446304500002,
            "count": 0
           },
           {
            "bin_start": 0.22414446304500002,
            "bin_end": 0.2556621881,
            "count": 1
           }
          ]
         }
        },
        {
         "name": "Category",
         "dtype": "object",
         "stats": {
          "unique_count": 11,
          "nan_count": 1,
          "categories": [
           {
            "name": "Grocery",
            "count": 7
           },
           {
            "name": "10 others",
            "count": 17
           },
           {
            "name": "Missing",
            "count": 1
           }
          ]
         }
        },
        {
         "name": "_deepnote_index_column",
         "dtype": "int64"
        }
       ],
       "rows": [
        {
         "Company": "Walmart US",
         "Sales": 658119,
         "Stores": 4574,
         "Sales/Avg. Store": 65.64972497,
         "Store Count Growth": 0.01284322409,
         "Category": "Supercenters",
         "_deepnote_index_column": 0
        },
        {
         "Company": "Kroger",
         "Sales": 115037,
         "Stores": 3931,
         "Sales/Avg. Store": 30.03184963,
         "Store Count Growth": 0.05388739946,
         "Category": "Grocery",
         "_deepnote_index_column": 1
        },
        {
         "Company": "Costco",
         "Sales": 90048,
         "Stores": 495,
         "Sales/Avg. Store": 187.7956204,
         "Store Count Growth": 0.06681034483,
         "Category": "Warehouse Club",
         "_deepnote_index_column": 2
        },
        {
         "Company": "Home Depot",
         "Sales": 83976,
         "Stores": 1965,
         "Sales/Avg. Store": 42.73587786,
         "Store Count Growth": 0,
         "Category": "Home Improvement",
         "_deepnote_index_column": 3
        },
        {
         "Company": "Walgreen Boots",
         "Sales": 78924,
         "Stores": 8002,
         "Sales/Avg. Store": 9.81092672,
         "Store Count Growth": -0.01051069618,
         "Category": "Drug Stores",
         "_deepnote_index_column": 4
        },
        {
         "Company": "CVS incl. Target",
         "Sales": 77792,
         "Stores": 9813,
         "Sales/Avg. Store": 8.825958702,
         "Store Count Growth": 0.2556621881,
         "Category": "Drug Stores",
         "_deepnote_index_column": 5
        },
        {
         "Company": "Amazon",
         "Sales": 71687,
         "Stores": "nan",
         "Sales/Avg. Store": "nan",
         "Store Count Growth": "nan",
         "Category": "Electronic/Mail Order",
         "_deepnote_index_column": 6
        },
        {
         "Company": "Target",
         "Sales": 71208,
         "Stores": 1772,
         "Sales/Avg. Store": 39.98203257,
         "Store Count Growth": -0.01005586592,
         "Category": "Supercenters",
         "_deepnote_index_column": 7
        },
        {
         "Company": "Lowe's",
         "Sales": 60311,
         "Stores": 1828,
         "Sales/Avg. Store": 33.31179232,
         "Store Count Growth": 0.01952035694,
         "Category": "Home Improvement",
         "_deepnote_index_column": 8
        },
        {
         "Company": "Albertsons",
         "Sales": 56829,
         "Stores": 2326,
         "Sales/Avg. Store": 23.87773109,
         "Store Count Growth": -0.04437140509,
         "Category": "Grocery",
         "_deepnote_index_column": 9
        },
        {
         "Company": "Sam's Club",
         "Sales": 56828,
         "Stores": 655,
         "Sales/Avg. Store": 87.29339478,
         "Store Count Growth": 0.01236476043,
         "Category": "Warehouse Clubs",
         "_deepnote_index_column": 10
        },
        {
         "Company": "Apple incl. Online",
         "Sales": 37664,
         "Stores": "nan",
         "Sales/Avg. Store": "nan",
         "Store Count Growth": "nan",
         "Category": "nan",
         "_deepnote_index_column": 11
        },
        {
         "Company": "Best Buy",
         "Sales": 34980,
         "Stores": 1389,
         "Sales/Avg. Store": 24.68595625,
         "Store Count Growth": -0.03875432526,
         "Category": "Electronics",
         "_deepnote_index_column": 12
        },
        {
         "Company": "Publix",
         "Sales": 34408,
         "Stores": 1351,
         "Sales/Avg. Store": 25.99773328,
         "Store Count Growth": 0.0424382716,
         "Category": "Grocery",
         "_deepnote_index_column": 13
        },
        {
         "Company": "Rite Aid",
         "Sales": 27486,
         "Stores": 4553,
         "Sales/Avg. Store": 6.025649457,
         "Store Count Growth": -0.003719912473,
         "Category": "Drug Stores",
         "_deepnote_index_column": 14
        },
        {
         "Company": "Ahold",
         "Sales": 26903,
         "Stores": 794,
         "Sales/Avg. Store": 34.446863,
         "Store Count Growth": 0.03385416667,
         "Category": "Grocery",
         "_deepnote_index_column": 15
        },
        {
         "Company": "Macy's",
         "Sales": 26028,
         "Stores": 889,
         "Sales/Avg. Store": 30.44210526,
         "Store Count Growth": 0.08282582217,
         "Category": "Department Stores",
         "_deepnote_index_column": 16
        },
        {
         "Company": "TJX",
         "Sales": 25012,
         "Stores": 2770,
         "Sales/Avg. Store": 9.369544859,
         "Store Count Growth": 0.07824056053,
         "Category": "Apparel",
         "_deepnote_index_column": 17
        },
        {
         "Company": "Aldi",
         "Sales": 24402,
         "Stores": 2021,
         "Sales/Avg. Store": 12.71599792,
         "Store Count Growth": 0.1122729774,
         "Category": "Grocery",
         "_deepnote_index_column": 18
        },
        {
         "Company": "Dollar General",
         "Sales": 22234,
         "Stores": 13350,
         "Sales/Avg. Store": 1.768884999,
         "Store Count Growth": 0.1324115701,
         "Category": "Dollar Stores",
         "_deepnote_index_column": 19
        },
        {
         "Company": "Dollar Tree",
         "Sales": 21464,
         "Stores": 14250,
         "Sales/Avg. Store": 1.56391854,
         "Store Count Growth": 0.07962724449,
         "Category": "Dollar Stores",
         "_deepnote_index_column": 20
        },
        {
         "Company": "HEB",
         "Sales": 21384,
         "Stores": 323,
         "Sales/Avg. Store": 66.825,
         "Store Count Growth": 0.01892744479,
         "Category": "Grocery",
         "_deepnote_index_column": 21
        },
        {
         "Company": "Kohl's",
         "Sales": 19060,
         "Stores": 1169,
         "Sales/Avg. Store": 16.35349635,
         "Store Count Growth": 0.006024096386,
         "Category": "Department Stores",
         "_deepnote_index_column": 22
        },
        {
         "Company": "Delhaize",
         "Sales": 18201,
         "Stores": 1280,
         "Sales/Avg. Store": 13.78341537,
         "Store Count Growth": -0.05951506245,
         "Category": "Grocery",
         "_deepnote_index_column": 23
        },
        {
         "Company": "Meijer",
         "Sales": 16592,
         "Stores": 231,
         "Sales/Avg. Store": 74.73873874,
         "Store Count Growth": 0.08450704225,
         "Category": "Supercenters",
         "_deepnote_index_column": 24
        }
       ]
      },
      "text/plain": "               Company   Sales   Stores  Sales/Avg. Store  Store Count Growth  \\\n0           Walmart US  658119   4574.0         65.649725            0.012843   \n1               Kroger  115037   3931.0         30.031850            0.053887   \n2               Costco   90048    495.0        187.795620            0.066810   \n3           Home Depot   83976   1965.0         42.735878            0.000000   \n4       Walgreen Boots   78924   8002.0          9.810927           -0.010511   \n5     CVS incl. Target   77792   9813.0          8.825959            0.255662   \n6               Amazon   71687      NaN               NaN                 NaN   \n7               Target   71208   1772.0         39.982033           -0.010056   \n8               Lowe's   60311   1828.0         33.311792            0.019520   \n9           Albertsons   56829   2326.0         23.877731           -0.044371   \n10          Sam's Club   56828    655.0         87.293395            0.012365   \n11  Apple incl. Online   37664      NaN               NaN                 NaN   \n12            Best Buy   34980   1389.0         24.685956           -0.038754   \n13              Publix   34408   1351.0         25.997733            0.042438   \n14            Rite Aid   27486   4553.0          6.025649           -0.003720   \n15               Ahold   26903    794.0         34.446863            0.033854   \n16              Macy's   26028    889.0         30.442105            0.082826   \n17                 TJX   25012   2770.0          9.369545            0.078241   \n18                Aldi   24402   2021.0         12.715998            0.112273   \n19      Dollar General   22234  13350.0          1.768885            0.132412   \n20         Dollar Tree   21464  14250.0          1.563919            0.079627   \n21                 HEB   21384    323.0         66.825000            0.018927   \n22              Kohl's   19060   1169.0         16.353496            0.006024   \n23            Delhaize   18201   1280.0         13.783415           -0.059515   \n24              Meijer   16592    231.0         74.738739            0.084507   \n\n                 Category  \n0            Supercenters  \n1                 Grocery  \n2          Warehouse Club  \n3        Home Improvement  \n4             Drug Stores  \n5             Drug Stores  \n6   Electronic/Mail Order  \n7            Supercenters  \n8        Home Improvement  \n9                 Grocery  \n10        Warehouse Clubs  \n11                    NaN  \n12            Electronics  \n13                Grocery  \n14            Drug Stores  \n15                Grocery  \n16      Department Stores  \n17                Apparel  \n18                Grocery  \n19          Dollar Stores  \n20          Dollar Stores  \n21                Grocery  \n22      Department Stores  \n23                Grocery  \n24           Supercenters  ",
      "text/html": "<div>\n<style scoped>\n    .dataframe tbody tr th:only-of-type {\n        vertical-align: middle;\n    }\n\n    .dataframe tbody tr th {\n        vertical-align: top;\n    }\n\n    .dataframe thead th {\n        text-align: right;\n    }\n</style>\n<table border=\"1\" class=\"dataframe\">\n  <thead>\n    <tr style=\"text-align: right;\">\n      <th></th>\n      <th>Company</th>\n      <th>Sales</th>\n      <th>Stores</th>\n      <th>Sales/Avg. Store</th>\n      <th>Store Count Growth</th>\n      <th>Category</th>\n    </tr>\n  </thead>\n  <tbody>\n    <tr>\n      <th>0</th>\n      <td>Walmart US</td>\n      <td>658119</td>\n      <td>4574.0</td>\n      <td>65.649725</td>\n      <td>0.012843</td>\n      <td>Supercenters</td>\n    </tr>\n    <tr>\n      <th>1</th>\n      <td>Kroger</td>\n      <td>115037</td>\n      <td>3931.0</td>\n      <td>30.031850</td>\n      <td>0.053887</td>\n      <td>Grocery</td>\n    </tr>\n    <tr>\n      <th>2</th>\n      <td>Costco</td>\n      <td>90048</td>\n      <td>495.0</td>\n      <td>187.795620</td>\n      <td>0.066810</td>\n      <td>Warehouse Club</td>\n    </tr>\n    <tr>\n      <th>3</th>\n      <td>Home Depot</td>\n      <td>83976</td>\n      <td>1965.0</td>\n      <td>42.735878</td>\n      <td>0.000000</td>\n      <td>Home Improvement</td>\n    </tr>\n    <tr>\n      <th>4</th>\n      <td>Walgreen Boots</td>\n      <td>78924</td>\n      <td>8002.0</td>\n      <td>9.810927</td>\n      <td>-0.010511</td>\n      <td>Drug Stores</td>\n    </tr>\n    <tr>\n      <th>5</th>\n      <td>CVS incl. Target</td>\n      <td>77792</td>\n      <td>9813.0</td>\n      <td>8.825959</td>\n      <td>0.255662</td>\n      <td>Drug Stores</td>\n    </tr>\n    <tr>\n      <th>6</th>\n      <td>Amazon</td>\n      <td>71687</td>\n      <td>NaN</td>\n      <td>NaN</td>\n      <td>NaN</td>\n      <td>Electronic/Mail Order</td>\n    </tr>\n    <tr>\n      <th>7</th>\n      <td>Target</td>\n      <td>71208</td>\n      <td>1772.0</td>\n      <td>39.982033</td>\n      <td>-0.010056</td>\n      <td>Supercenters</td>\n    </tr>\n    <tr>\n      <th>8</th>\n      <td>Lowe's</td>\n      <td>60311</td>\n      <td>1828.0</td>\n      <td>33.311792</td>\n      <td>0.019520</td>\n      <td>Home Improvement</td>\n    </tr>\n    <tr>\n      <th>9</th>\n      <td>Albertsons</td>\n      <td>56829</td>\n      <td>2326.0</td>\n      <td>23.877731</td>\n      <td>-0.044371</td>\n      <td>Grocery</td>\n    </tr>\n    <tr>\n      <th>10</th>\n      <td>Sam's Club</td>\n      <td>56828</td>\n      <td>655.0</td>\n      <td>87.293395</td>\n      <td>0.012365</td>\n      <td>Warehouse Clubs</td>\n    </tr>\n    <tr>\n      <th>11</th>\n      <td>Apple incl. Online</td>\n      <td>37664</td>\n      <td>NaN</td>\n      <td>NaN</td>\n      <td>NaN</td>\n      <td>NaN</td>\n    </tr>\n    <tr>\n      <th>12</th>\n      <td>Best Buy</td>\n      <td>34980</td>\n      <td>1389.0</td>\n      <td>24.685956</td>\n      <td>-0.038754</td>\n      <td>Electronics</td>\n    </tr>\n    <tr>\n      <th>13</th>\n      <td>Publix</td>\n      <td>34408</td>\n      <td>1351.0</td>\n      <td>25.997733</td>\n      <td>0.042438</td>\n      <td>Grocery</td>\n    </tr>\n    <tr>\n      <th>14</th>\n      <td>Rite Aid</td>\n      <td>27486</td>\n      <td>4553.0</td>\n      <td>6.025649</td>\n      <td>-0.003720</td>\n      <td>Drug Stores</td>\n    </tr>\n    <tr>\n      <th>15</th>\n      <td>Ahold</td>\n      <td>26903</td>\n      <td>794.0</td>\n      <td>34.446863</td>\n      <td>0.033854</td>\n      <td>Grocery</td>\n    </tr>\n    <tr>\n      <th>16</th>\n      <td>Macy's</td>\n      <td>26028</td>\n      <td>889.0</td>\n      <td>30.442105</td>\n      <td>0.082826</td>\n      <td>Department Stores</td>\n    </tr>\n    <tr>\n      <th>17</th>\n      <td>TJX</td>\n      <td>25012</td>\n      <td>2770.0</td>\n      <td>9.369545</td>\n      <td>0.078241</td>\n      <td>Apparel</td>\n    </tr>\n    <tr>\n      <th>18</th>\n      <td>Aldi</td>\n      <td>24402</td>\n      <td>2021.0</td>\n      <td>12.715998</td>\n      <td>0.112273</td>\n      <td>Grocery</td>\n    </tr>\n    <tr>\n      <th>19</th>\n      <td>Dollar General</td>\n      <td>22234</td>\n      <td>13350.0</td>\n      <td>1.768885</td>\n      <td>0.132412</td>\n      <td>Dollar Stores</td>\n    </tr>\n    <tr>\n      <th>20</th>\n      <td>Dollar Tree</td>\n      <td>21464</td>\n      <td>14250.0</td>\n      <td>1.563919</td>\n      <td>0.079627</td>\n      <td>Dollar Stores</td>\n    </tr>\n    <tr>\n      <th>21</th>\n      <td>HEB</td>\n      <td>21384</td>\n      <td>323.0</td>\n      <td>66.825000</td>\n      <td>0.018927</td>\n      <td>Grocery</td>\n    </tr>\n    <tr>\n      <th>22</th>\n      <td>Kohl's</td>\n      <td>19060</td>\n      <td>1169.0</td>\n      <td>16.353496</td>\n      <td>0.006024</td>\n      <td>Department Stores</td>\n    </tr>\n    <tr>\n      <th>23</th>\n      <td>Delhaize</td>\n      <td>18201</td>\n      <td>1280.0</td>\n      <td>13.783415</td>\n      <td>-0.059515</td>\n      <td>Grocery</td>\n    </tr>\n    <tr>\n      <th>24</th>\n      <td>Meijer</td>\n      <td>16592</td>\n      <td>231.0</td>\n      <td>74.738739</td>\n      <td>0.084507</td>\n      <td>Supercenters</td>\n    </tr>\n  </tbody>\n</table>\n</div>"
     },
     "metadata": {}
    }
   ],
   "execution_count": null
  },
  {
   "cell_type": "markdown",
   "source": "## I. Preguntas del negocio",
   "metadata": {
    "cell_id": "cc141631-e246-41c7-a56b-ad74255d674f",
    "tags": [],
    "is_collapsed": false,
    "deepnote_cell_height": 70,
    "deepnote_cell_type": "text-cell-h2"
   }
  },
  {
   "cell_type": "markdown",
   "source": "### 1. ¿Cuál es el promedio de ventas sin contar a la compañía dominante?",
   "metadata": {
    "cell_id": "b919b92e-0df3-4f54-b093-c1db040bc4aa",
    "tags": [],
    "deepnote_cell_height": 94,
    "deepnote_cell_type": "markdown"
   }
  },
  {
   "cell_type": "code",
   "metadata": {
    "cell_id": "d0684d2b-d018-42ad-9b48-b545aae09eec",
    "tags": [],
    "deepnote_cell_height": 66,
    "deepnote_to_be_reexecuted": false,
    "source_hash": "85de3d4e",
    "execution_start": 1645831933923,
    "execution_millis": 2,
    "deepnote_table_state": {
     "pageSize": 25,
     "pageIndex": 0,
     "filters": [],
     "sortBy": []
    },
    "deepnote_table_loading": false,
    "deepnote_table_invalid": false,
    "deepnote_cell_type": "code"
   },
   "source": "df_1 = df[['Company', 'Sales']].sort_values(by=['Sales'], ascending=False)\ndf_1= df_1.iloc[1:25]\nanswer_1=df_1.mean()\nanswer_1",
   "outputs": [
    {
     "output_type": "execute_result",
     "execution_count": 126,
     "data": {
      "text/plain": "Sales    46602.416667\ndtype: float64"
     },
     "metadata": {}
    }
   ],
   "execution_count": null
  },
  {
   "cell_type": "markdown",
   "source": "CONCLUSIONES: Al eliminar la compañia dominante de nuestro análisis se observa que el promedio en ventas es de 46602.4 USD, sin embargo, esto no indica que cda una de las compañias analizadas tenga unas ventas promedio de este valor. Para obtener un análisis más preciso se empleará un histograma en el siguiente ejercicio.",
   "metadata": {
    "cell_id": "7fe6cf54-9967-4e12-a8e7-2f9184f78554",
    "tags": [],
    "deepnote_cell_type": "markdown"
   }
  },
  {
   "cell_type": "markdown",
   "source": "### 2. ¿Cuánto dinero en ventas generó la mayoría de las compañías?",
   "metadata": {
    "cell_id": "1814847a-365e-4bae-9fb9-6bed9b874b37",
    "tags": [],
    "deepnote_cell_height": 94,
    "deepnote_cell_type": "markdown"
   }
  },
  {
   "cell_type": "code",
   "metadata": {
    "cell_id": "7c7057cc-813b-4f93-8826-caed6cc738f9",
    "tags": [],
    "deepnote_cell_height": 66,
    "deepnote_to_be_reexecuted": false,
    "source_hash": "82e6ef5c",
    "execution_start": 1645833743099,
    "execution_millis": 456,
    "deepnote_cell_type": "code"
   },
   "source": "# df['Sales'].plot.hist(bins=10)\nsns.set(rc={'figure.figsize':(11.7,8.27)})\nf, (ax_hist, ax_box) = plt.subplots(2, sharex=True)\nh=sns.histplot(df['Sales'], ax=ax_hist)\nc=sns.boxplot(df['Sales'], ax=ax_box)\nh.set_title('Diagrama de frecuencias de ventas por compañia')\nc.set_title('Diagrama de caja ventas por compañia')\nax_hist.set(xlabel='')",
   "outputs": [
    {
     "name": "stderr",
     "text": "/shared-libs/python3.7/py/lib/python3.7/site-packages/seaborn/_decorators.py:43: FutureWarning: Pass the following variable as a keyword arg: x. From version 0.12, the only valid positional argument will be `data`, and passing other arguments without an explicit keyword will result in an error or misinterpretation.\n  FutureWarning\n",
     "output_type": "stream"
    },
    {
     "output_type": "execute_result",
     "execution_count": 139,
     "data": {
      "text/plain": "[Text(0.5, 0, '')]"
     },
     "metadata": {}
    },
    {
     "data": {
      "text/plain": "<Figure size 842.4x595.44 with 2 Axes>",
      "image/png": "[encoded data removed]"
     },
     "metadata": {
      "image/png": {
       "width": 707,
       "height": 516
      }
     },
     "output_type": "display_data"
    }
   ],
   "execution_count": null
  },
  {
   "cell_type": "markdown",
   "source": "CONCLUSIONES: En este ejercicio se puede observar claramente que una de las compañias posee un nivel de ventas mucho mayor respecto a las otras compañias del sector (valor atipico), las cuales no resultan ser una competencia. Asi, por medio del histograma y el diagrama de caja se puede observar que el minimo y el máximo de ventas de las compañias es 10000 y 110000 Millones de USD respectivamente. Por otro lado, se observa que la mayoria de compañias se sitúan con un valor de ventas entre el cuartil Q1 y Q3 es decir entre 20000 y 70000 Millones de USD.",
   "metadata": {
    "cell_id": "438d9366-2320-4987-8d3b-caea8e2485fd",
    "tags": [],
    "deepnote_cell_type": "markdown"
   }
  },
  {
   "cell_type": "markdown",
   "source": "### 3. ¿Cuántas tiendas tiene la mayoría de las compañías?",
   "metadata": {
    "cell_id": "9801295a-a27d-48af-ae87-c653cabd8f67",
    "tags": [],
    "deepnote_cell_height": 94,
    "deepnote_cell_type": "markdown"
   }
  },
  {
   "cell_type": "code",
   "metadata": {
    "cell_id": "cfcc2261-f6a1-44d8-b8fa-184eec2a77ff",
    "tags": [],
    "deepnote_cell_height": 66,
    "deepnote_to_be_reexecuted": false,
    "source_hash": "8a038ebc",
    "execution_start": 1645833094849,
    "execution_millis": 971,
    "deepnote_cell_type": "code"
   },
   "source": "sns.set(rc={'figure.figsize':(11.7,8.27)})\nf, (ax_hist, ax_box) = plt.subplots(2, sharex=True)\nh=sns.histplot(df['Stores'], ax=ax_hist)\nc=sns.boxplot(df['Stores'], ax=ax_box)\nh.set_title('Diagrama de frecuencias del número de tiendas por compañia')\nc.set_title('Diagrama de caja del número de tiendas por compañia')\n\nax_hist.set(xlabel='')",
   "outputs": [
    {
     "name": "stderr",
     "text": "/shared-libs/python3.7/py/lib/python3.7/site-packages/seaborn/_decorators.py:43: FutureWarning: Pass the following variable as a keyword arg: x. From version 0.12, the only valid positional argument will be `data`, and passing other arguments without an explicit keyword will result in an error or misinterpretation.\n  FutureWarning\n",
     "output_type": "stream"
    },
    {
     "output_type": "execute_result",
     "execution_count": 138,
     "data": {
      "text/plain": "[Text(0.5, 0, '')]"
     },
     "metadata": {}
    },
    {
     "data": {
      "text/plain": "<Figure size 842.4x595.44 with 2 Axes>",
      "image/png": "[encoded data removed]"
     },
     "metadata": {
      "image/png": {
       "width": 707,
       "height": 516
      }
     },
     "output_type": "display_data"
    }
   ],
   "execution_count": null
  },
  {
   "cell_type": "markdown",
   "source": "CONCLUSIONES: En este caso se logra observar que la mayoria de compañias tienen entre 1000 y 4200 tiendas ya que este es el intervalo donde se agrupa el cuartil Q1 y Q3. En este caso se logra observar 3 casos atipicos los cuales se encuentran fuera del rango máximo, el cual se posiciona en 8000 tiendas, el minimo se encuentra alrededor de 200 tiendas.",
   "metadata": {
    "cell_id": "3ac12ad7-92a1-407c-9648-001914a31b7a",
    "tags": [],
    "deepnote_cell_type": "markdown"
   }
  },
  {
   "cell_type": "markdown",
   "source": "### 4. ¿La cantidad de tiendas está relacionada con la cantidad de ventas? Es decir, ¿si una empresa tiene más tiendas tendrá más dinero de ventas?",
   "metadata": {
    "cell_id": "c9b5de28-cd12-4088-9bc0-93df660401f3",
    "tags": [],
    "deepnote_cell_height": 158,
    "deepnote_cell_type": "markdown"
   }
  },
  {
   "cell_type": "code",
   "metadata": {
    "cell_id": "72dda234-6fca-477e-a088-99682e9766a2",
    "tags": [],
    "deepnote_cell_height": 66,
    "deepnote_to_be_reexecuted": false,
    "source_hash": "1058ceca",
    "execution_start": 1645833812979,
    "execution_millis": 603,
    "deepnote_cell_type": "code"
   },
   "source": "df_4=df_1\ndf_4 = df.sort_values(by=['Sales'], ascending=False)\ns=sns.scatterplot(data=df_4, x = 'Stores', y = 'Sales')\ns.set_title('Diagrama de disperción - ventas según número de tiendas')\n",
   "outputs": [
    {
     "output_type": "execute_result",
     "execution_count": 140,
     "data": {
      "text/plain": "Text(0.5, 1.0, 'Diagrama de disperción - ventas según número de tiendas')"
     },
     "metadata": {}
    },
    {
     "data": {
      "text/plain": "<Figure size 842.4x595.44 with 1 Axes>",
      "image/png": "[encoded data removed]"
     },
     "metadata": {
      "image/png": {
       "width": 735,
       "height": 516
      }
     },
     "output_type": "display_data"
    }
   ],
   "execution_count": null
  },
  {
   "cell_type": "markdown",
   "source": "CONCLUSIONES: Al utilizar una grafica de disperción para observar la relación entre las ventas y el número de tiendas no se logra observar una tendencia, por lo que se concluye que estas variables no se encuentran relacionadas, ya que para un número similar de ventas se observa compañias con diferente cantidad de tiendas.",
   "metadata": {
    "cell_id": "62542e9a-0429-4cfd-80b1-0fe1eb4fe211",
    "tags": [],
    "deepnote_cell_type": "markdown"
   }
  },
  {
   "cell_type": "markdown",
   "source": "### 5. ¿Cuál es el rango que existe entre las ventas?",
   "metadata": {
    "cell_id": "d296130b-b739-4424-8c5d-8dc8b6fc8ee5",
    "tags": [],
    "deepnote_cell_height": 94,
    "deepnote_cell_type": "markdown"
   }
  },
  {
   "cell_type": "code",
   "metadata": {
    "cell_id": "277da6f7-0300-4156-91e5-9765eb1f3752",
    "tags": [],
    "deepnote_cell_height": 66,
    "deepnote_to_be_reexecuted": false,
    "source_hash": "c987838e",
    "execution_start": 1645820438923,
    "execution_millis": 7,
    "deepnote_cell_type": "code"
   },
   "source": "rango = df['Sales'].max() - df['Sales'].min()\nrango",
   "outputs": [
    {
     "output_type": "execute_result",
     "execution_count": 32,
     "data": {
      "text/plain": "641527"
     },
     "metadata": {}
    }
   ],
   "execution_count": null
  },
  {
   "cell_type": "code",
   "source": "c=sns.boxplot(df['Sales'])\nc.set_title('Diagrama de caja de ventas compañia')\n",
   "metadata": {
    "cell_id": "e3669ebd-4dc2-4e38-8315-6e18a5913bf6",
    "tags": [],
    "deepnote_to_be_reexecuted": false,
    "source_hash": "2fc31241",
    "execution_start": 1645833851405,
    "execution_millis": 311,
    "deepnote_cell_type": "code"
   },
   "outputs": [
    {
     "name": "stderr",
     "text": "/shared-libs/python3.7/py/lib/python3.7/site-packages/seaborn/_decorators.py:43: FutureWarning: Pass the following variable as a keyword arg: x. From version 0.12, the only valid positional argument will be `data`, and passing other arguments without an explicit keyword will result in an error or misinterpretation.\n  FutureWarning\n",
     "output_type": "stream"
    },
    {
     "output_type": "execute_result",
     "execution_count": 141,
     "data": {
      "text/plain": "Text(0.5, 1.0, 'Diagrama de caja de ventas compañia')"
     },
     "metadata": {}
    },
    {
     "data": {
      "text/plain": "<Figure size 842.4x595.44 with 1 Axes>",
      "image/png": "[encoded data removed]"
     },
     "metadata": {
      "image/png": {
       "width": 667,
       "height": 516
      }
     },
     "output_type": "display_data"
    }
   ],
   "execution_count": null
  },
  {
   "cell_type": "markdown",
   "source": "CONCLUSIONES: El rango de ventas de esta dataset es 641527 Millones de USD, sin embargo, se puede observar un outlier generado por la compañia dominante, de esta manera la mayoria de datos se encuentran entre 10000 y 110000 Millones de USD aproximadamente.",
   "metadata": {
    "cell_id": "dcd941c4-1a10-4347-a571-fe2e212577dc",
    "tags": [],
    "deepnote_cell_type": "markdown"
   }
  },
  {
   "cell_type": "markdown",
   "source": "### 6. ¿Cuáles son las 5 empresas que más tiendas físicas tienen? ¿Cuáles de ellas están dentro de las 5 empresas que más ventas tuvieron?",
   "metadata": {
    "cell_id": "6c36ddc3-51ef-4017-a6f9-06cbb8b970e4",
    "tags": [],
    "deepnote_cell_height": 158,
    "deepnote_cell_type": "markdown"
   }
  },
  {
   "cell_type": "code",
   "metadata": {
    "cell_id": "1295319d-09d0-42f0-9de0-ff0e689f400f",
    "tags": [],
    "deepnote_cell_height": 66,
    "deepnote_to_be_reexecuted": false,
    "source_hash": "6287741a",
    "execution_start": 1645823930436,
    "execution_millis": 2,
    "deepnote_cell_type": "code"
   },
   "source": "df_6 = df[['Company', 'Stores']].sort_values(by=['Stores'], ascending=False)\ndf_6.head(5)",
   "outputs": [
    {
     "output_type": "execute_result",
     "execution_count": 21,
     "data": {
      "application/vnd.deepnote.dataframe.v3+json": {
       "column_count": 2,
       "row_count": 5,
       "columns": [
        {
         "name": "Company",
         "dtype": "object",
         "stats": {
          "unique_count": 5,
          "nan_count": 0,
          "categories": [
           {
            "name": "Dollar Tree",
            "count": 1
           },
           {
            "name": "Dollar General",
            "count": 1
           },
           {
            "name": "3 others",
            "count": 3
           }
          ]
         }
        },
        {
         "name": "Stores",
         "dtype": "float64",
         "stats": {
          "unique_count": 5,
          "nan_count": 0,
          "min": "4574.0",
          "max": "14250.0",
          "histogram": [
           {
            "bin_start": 4574,
            "bin_end": 5541.6,
            "count": 1
           },
           {
            "bin_start": 5541.6,
            "bin_end": 6509.2,
            "count": 0
           },
           {
            "bin_start": 6509.2,
            "bin_end": 7476.8,
            "count": 0
           },
           {
            "bin_start": 7476.8,
            "bin_end": 8444.4,
            "count": 1
           },
           {
            "bin_start": 8444.4,
            "bin_end": 9412,
            "count": 0
           },
           {
            "bin_start": 9412,
            "bin_end": 10379.6,
            "count": 1
           },
           {
            "bin_start": 10379.6,
            "bin_end": 11347.2,
            "count": 0
           },
           {
            "bin_start": 11347.2,
            "bin_end": 12314.8,
            "count": 0
           },
           {
            "bin_start": 12314.8,
            "bin_end": 13282.4,
            "count": 0
           },
           {
            "bin_start": 13282.4,
            "bin_end": 14250,
            "count": 2
           }
          ]
         }
        },
        {
         "name": "_deepnote_index_column",
         "dtype": "int64"
        }
       ],
       "rows": [
        {
         "Company": "Dollar Tree",
         "Stores": 14250,
         "_deepnote_index_column": 20
        },
        {
         "Company": "Dollar General",
         "Stores": 13350,
         "_deepnote_index_column": 19
        },
        {
         "Company": "CVS incl. Target",
         "Stores": 9813,
         "_deepnote_index_column": 5
        },
        {
         "Company": "Walgreen Boots",
         "Stores": 8002,
         "_deepnote_index_column": 4
        },
        {
         "Company": "Walmart US",
         "Stores": 4574,
         "_deepnote_index_column": 0
        }
       ]
      },
      "text/plain": "             Company   Stores\n20       Dollar Tree  14250.0\n19    Dollar General  13350.0\n5   CVS incl. Target   9813.0\n4     Walgreen Boots   8002.0\n0         Walmart US   4574.0",
      "text/html": "<div>\n<style scoped>\n    .dataframe tbody tr th:only-of-type {\n        vertical-align: middle;\n    }\n\n    .dataframe tbody tr th {\n        vertical-align: top;\n    }\n\n    .dataframe thead th {\n        text-align: right;\n    }\n</style>\n<table border=\"1\" class=\"dataframe\">\n  <thead>\n    <tr style=\"text-align: right;\">\n      <th></th>\n      <th>Company</th>\n      <th>Stores</th>\n    </tr>\n  </thead>\n  <tbody>\n    <tr>\n      <th>20</th>\n      <td>Dollar Tree</td>\n      <td>14250.0</td>\n    </tr>\n    <tr>\n      <th>19</th>\n      <td>Dollar General</td>\n      <td>13350.0</td>\n    </tr>\n    <tr>\n      <th>5</th>\n      <td>CVS incl. Target</td>\n      <td>9813.0</td>\n    </tr>\n    <tr>\n      <th>4</th>\n      <td>Walgreen Boots</td>\n      <td>8002.0</td>\n    </tr>\n    <tr>\n      <th>0</th>\n      <td>Walmart US</td>\n      <td>4574.0</td>\n    </tr>\n  </tbody>\n</table>\n</div>"
     },
     "metadata": {}
    }
   ],
   "execution_count": null
  },
  {
   "cell_type": "code",
   "source": "df_sorted = df.sort_values(by=['Sales'], ascending=False)\nx = df_sorted['Company'][0:5] #Aplicamos slicing como en una lista de Python.\ny = df_sorted['Sales'][0:5]\n\nplt.bar(x, y, color=['blue', '#ADD8E6', '#ADD8E6', '#ADD8E6','blue'])\nplt.title('Top 5 retailers')\nplt.xlabel('Company')\nplt.ylabel('Sales')\nplt.xticks(rotation='vertical') \n\nplt.show()",
   "metadata": {
    "cell_id": "e90a7554-dfc5-421c-866c-d3d65ec0f4c2",
    "tags": [],
    "deepnote_to_be_reexecuted": false,
    "source_hash": "f7dbe08a",
    "execution_start": 1645829772375,
    "execution_millis": 281,
    "deepnote_cell_type": "code"
   },
   "outputs": [
    {
     "data": {
      "text/plain": "<Figure size 842.4x595.44 with 1 Axes>",
      "image/png": "[encoded data removed]"
     },
     "metadata": {
      "image/png": {
       "width": 735,
       "height": 593
      }
     },
     "output_type": "display_data"
    }
   ],
   "execution_count": null
  },
  {
   "cell_type": "markdown",
   "source": "CONCLUSION: Las compañias con mayor cantidad de tiendas fueron Dollar Tree, Dollar General, CSV incl. Target, Walgreen Boots y Walmart. Por otro lado, el diagrama de barras muestra las compañias con mayor cantidad de ventas, concluyendo que de las 5 compañias con más tiendas físicas solo dos se encuentran en el top 5 de ventas, estas compañias son Walmart US y Walgreen Boots (Barras azul oscuro).\n",
   "metadata": {
    "cell_id": "125053e0-1f60-4fea-a65d-081e0c4bbf24",
    "tags": [],
    "deepnote_cell_type": "markdown"
   }
  },
  {
   "cell_type": "markdown",
   "source": "## II. Preguntas opcionales",
   "metadata": {
    "cell_id": "7d1d5db9-ad1d-4081-968b-bea1357e236a",
    "tags": [],
    "deepnote_cell_height": 70,
    "deepnote_cell_type": "markdown"
   }
  },
  {
   "cell_type": "markdown",
   "source": "### 7. ¿Qué categoría de compañía generó más ventas?",
   "metadata": {
    "cell_id": "27e5ddcb-8674-4809-844e-8c3442430be1",
    "tags": [],
    "deepnote_cell_height": 94,
    "deepnote_cell_type": "markdown"
   }
  },
  {
   "cell_type": "code",
   "source": "df_7 = df[['Category', 'Sales']]\ndf_7 = df_7.groupby('Category').agg({'Sales': np.sum}).sort_values(by='Sales', ascending=False)\ndf_7=df_7.reset_index()\ndf_7.head(3)",
   "metadata": {
    "cell_id": "9fb96105-1b2c-4a51-8ff8-65eabd878f71",
    "tags": [],
    "deepnote_to_be_reexecuted": false,
    "source_hash": "1142ab93",
    "execution_start": 1645830283071,
    "execution_millis": 18,
    "deepnote_cell_type": "code"
   },
   "outputs": [
    {
     "output_type": "execute_result",
     "execution_count": 107,
     "data": {
      "application/vnd.deepnote.dataframe.v3+json": {
       "column_count": 2,
       "row_count": 3,
       "columns": [
        {
         "name": "Category",
         "dtype": "object",
         "stats": {
          "unique_count": 3,
          "nan_count": 0,
          "categories": [
           {
            "name": "Supercenters",
            "count": 1
           },
           {
            "name": "Grocery",
            "count": 1
           },
           {
            "name": "Drug Stores",
            "count": 1
           }
          ]
         }
        },
        {
         "name": "Sales",
         "dtype": "int64",
         "stats": {
          "unique_count": 3,
          "nan_count": 0,
          "min": "184202",
          "max": "745919",
          "histogram": [
           {
            "bin_start": 184202,
            "bin_end": 240373.7,
            "count": 1
           },
           {
            "bin_start": 240373.7,
            "bin_end": 296545.4,
            "count": 0
           },
           {
            "bin_start": 296545.4,
            "bin_end": 352717.1,
            "count": 1
           },
           {
            "bin_start": 352717.1,
            "bin_end": 408888.8,
            "count": 0
           },
           {
            "bin_start": 408888.8,
            "bin_end": 465060.5,
            "count": 0
           },
           {
            "bin_start": 465060.5,
            "bin_end": 521232.19999999995,
            "count": 0
           },
           {
            "bin_start": 521232.19999999995,
            "bin_end": 577403.8999999999,
            "count": 0
           },
           {
            "bin_start": 577403.8999999999,
            "bin_end": 633575.6,
            "count": 0
           },
           {
            "bin_start": 633575.6,
            "bin_end": 689747.3,
            "count": 0
           },
           {
            "bin_start": 689747.3,
            "bin_end": 745919,
            "count": 1
           }
          ]
         }
        },
        {
         "name": "_deepnote_index_column",
         "dtype": "int64"
        }
       ],
       "rows": [
        {
         "Category": "Supercenters",
         "Sales": 745919,
         "_deepnote_index_column": 0
        },
        {
         "Category": "Grocery",
         "Sales": 297164,
         "_deepnote_index_column": 1
        },
        {
         "Category": "Drug Stores",
         "Sales": 184202,
         "_deepnote_index_column": 2
        }
       ]
      },
      "text/plain": "       Category   Sales\n0  Supercenters  745919\n1       Grocery  297164\n2   Drug Stores  184202",
      "text/html": "<div>\n<style scoped>\n    .dataframe tbody tr th:only-of-type {\n        vertical-align: middle;\n    }\n\n    .dataframe tbody tr th {\n        vertical-align: top;\n    }\n\n    .dataframe thead th {\n        text-align: right;\n    }\n</style>\n<table border=\"1\" class=\"dataframe\">\n  <thead>\n    <tr style=\"text-align: right;\">\n      <th></th>\n      <th>Category</th>\n      <th>Sales</th>\n    </tr>\n  </thead>\n  <tbody>\n    <tr>\n      <th>0</th>\n      <td>Supercenters</td>\n      <td>745919</td>\n    </tr>\n    <tr>\n      <th>1</th>\n      <td>Grocery</td>\n      <td>297164</td>\n    </tr>\n    <tr>\n      <th>2</th>\n      <td>Drug Stores</td>\n      <td>184202</td>\n    </tr>\n  </tbody>\n</table>\n</div>"
     },
     "metadata": {}
    }
   ],
   "execution_count": null
  },
  {
   "cell_type": "code",
   "source": "x = df_7['Category'][0:5] #Aplicamos slicing como en una lista de Python.\ny = df_7['Sales'][0:5]\n\nplt.bar(x, y, color=['#FFFF00', '#9B9B9B', '#9B9B9B', '#9B9B9B','#9B9B9B'])\nplt.title('Ventas según categoria en el mercado')\nplt.xlabel('Category')\nplt.ylabel('Sales')\nplt.xticks(rotation='vertical') \n\nplt.show()",
   "metadata": {
    "cell_id": "98ddfc44-5c58-41ac-8ca4-731286881585",
    "tags": [],
    "deepnote_to_be_reexecuted": false,
    "source_hash": "e197f74e",
    "execution_start": 1645830795643,
    "execution_millis": 404,
    "deepnote_cell_type": "code"
   },
   "outputs": [
    {
     "data": {
      "text/plain": "<Figure size 842.4x595.44 with 1 Axes>",
      "image/png": "[encoded data removed]"
     },
     "metadata": {
      "image/png": {
       "width": 735,
       "height": 617
      }
     },
     "output_type": "display_data"
    }
   ],
   "execution_count": null
  },
  {
   "cell_type": "markdown",
   "source": "CONCLUSIONES: Al organizar las ventas a partir de sus categorias se encontró que la categoria con mayor número de ventas es 'Supercenters' seguido por 'Grocery' y 'Drug Stores'",
   "metadata": {
    "cell_id": "79b5dcdd-7146-4414-a299-adf2b639cc5a",
    "tags": [],
    "deepnote_cell_type": "markdown"
   }
  },
  {
   "cell_type": "markdown",
   "source": "### 8. ¿Cuál es la compañía que en relación con su cantidad de tiendas físicas genera más ventas?",
   "metadata": {
    "cell_id": "33668883-9f01-485c-bdf9-822cd13ad952",
    "tags": [],
    "deepnote_cell_height": 126,
    "deepnote_cell_type": "markdown"
   }
  },
  {
   "cell_type": "code",
   "metadata": {
    "cell_id": "903008ff-c22d-431e-8130-a954a94b16e8",
    "tags": [],
    "deepnote_cell_height": 66,
    "deepnote_to_be_reexecuted": false,
    "source_hash": "c93327e5",
    "execution_start": 1645824524742,
    "execution_millis": 382,
    "deepnote_cell_type": "code"
   },
   "source": "df['Sales/Stores'] = df['Sales']/df['Stores']\ndf_8 = df[['Company', 'Sales/Stores']].sort_values(by=['Sales/Stores'], ascending=False)\ndf_8.head(1)",
   "outputs": [
    {
     "output_type": "execute_result",
     "execution_count": 27,
     "data": {
      "application/vnd.deepnote.dataframe.v3+json": {
       "column_count": 2,
       "row_count": 1,
       "columns": [
        {
         "name": "Company",
         "dtype": "object",
         "stats": {
          "unique_count": 1,
          "nan_count": 0,
          "categories": [
           {
            "name": "Costco",
            "count": 1
           }
          ]
         }
        },
        {
         "name": "Sales/Stores",
         "dtype": "float64",
         "stats": {
          "unique_count": 1,
          "nan_count": 0,
          "min": "181.9151515151515",
          "max": "181.9151515151515",
          "histogram": [
           {
            "bin_start": 181.4151515151515,
            "bin_end": 181.5151515151515,
            "count": 0
           },
           {
            "bin_start": 181.5151515151515,
            "bin_end": 181.6151515151515,
            "count": 0
           },
           {
            "bin_start": 181.6151515151515,
            "bin_end": 181.71515151515152,
            "count": 0
           },
           {
            "bin_start": 181.71515151515152,
            "bin_end": 181.8151515151515,
            "count": 0
           },
           {
            "bin_start": 181.8151515151515,
            "bin_end": 181.9151515151515,
            "count": 0
           },
           {
            "bin_start": 181.9151515151515,
            "bin_end": 182.0151515151515,
            "count": 1
           },
           {
            "bin_start": 182.0151515151515,
            "bin_end": 182.1151515151515,
            "count": 0
           },
           {
            "bin_start": 182.1151515151515,
            "bin_end": 182.21515151515152,
            "count": 0
           },
           {
            "bin_start": 182.21515151515152,
            "bin_end": 182.3151515151515,
            "count": 0
           },
           {
            "bin_start": 182.3151515151515,
            "bin_end": 182.4151515151515,
            "count": 0
           }
          ]
         }
        },
        {
         "name": "_deepnote_index_column",
         "dtype": "int64"
        }
       ],
       "rows": [
        {
         "Company": "Costco",
         "Sales/Stores": 181.9151515151515,
         "_deepnote_index_column": 2
        }
       ]
      },
      "text/plain": "  Company  Sales/Stores\n2  Costco    181.915152",
      "text/html": "<div>\n<style scoped>\n    .dataframe tbody tr th:only-of-type {\n        vertical-align: middle;\n    }\n\n    .dataframe tbody tr th {\n        vertical-align: top;\n    }\n\n    .dataframe thead th {\n        text-align: right;\n    }\n</style>\n<table border=\"1\" class=\"dataframe\">\n  <thead>\n    <tr style=\"text-align: right;\">\n      <th></th>\n      <th>Company</th>\n      <th>Sales/Stores</th>\n    </tr>\n  </thead>\n  <tbody>\n    <tr>\n      <th>2</th>\n      <td>Costco</td>\n      <td>181.915152</td>\n    </tr>\n  </tbody>\n</table>\n</div>"
     },
     "metadata": {}
    }
   ],
   "execution_count": null
  },
  {
   "cell_type": "code",
   "source": "df['Sales/Stores'] = df['Sales']/df['Stores']\ndf_8 = df[['Company', 'Sales/Stores']].sort_values(by=['Sales/Stores'], ascending=False)\nx = df_8['Company'][0:5] \ny = df_8['Sales/Stores'][0:5]\n\nplt.bar(x, y, color=['#98FB98', '#ADD8E6', '#ADD8E6', '#ADD8E6', '#ADD8E6'])\nplt.title('Top 5 Sales/Store')\nplt.xlabel('Company')\nplt.ylabel('Sales')\nplt.xticks(rotation='horizontal') \nplt.show()",
   "metadata": {
    "cell_id": "eb8c9b23-1e5c-45fb-94ac-11b8ee6b6a76",
    "tags": [],
    "deepnote_to_be_reexecuted": false,
    "source_hash": "a030662e",
    "execution_start": 1645829885553,
    "execution_millis": 277,
    "deepnote_cell_type": "code"
   },
   "outputs": [
    {
     "data": {
      "text/plain": "<Figure size 842.4x595.44 with 1 Axes>",
      "image/png": "[encoded data removed]"
     },
     "metadata": {
      "image/png": {
       "width": 714,
       "height": 516
      }
     },
     "output_type": "display_data"
    }
   ],
   "execution_count": null
  },
  {
   "cell_type": "markdown",
   "source": "CONCLUSION: La compañia con mejor relacion entre sus ventas y número de tiendas fisicas es Costco(Verde claro en el grafico de barras), la cual tiene una capacidad de ventas de alrededor de 175 millones de USD por tienda.",
   "metadata": {
    "cell_id": "9e8a7c44-77d0-4862-8e01-109b4f60d175",
    "tags": [],
    "deepnote_cell_type": "markdown"
   }
  },
  {
   "cell_type": "markdown",
   "source": "### 9. ¿Cuáles compañías venden de forma exclusivamente online? ¿Sus ventas destacan sobre las que también tienen tiendas físicas?",
   "metadata": {
    "cell_id": "e9a00ffe-de8a-41f0-98e7-67b905d0d14f",
    "tags": [],
    "deepnote_cell_height": 158,
    "deepnote_cell_type": "markdown"
   }
  },
  {
   "cell_type": "code",
   "metadata": {
    "cell_id": "cb6d5d30-783d-44af-9c84-f31689cb3487",
    "tags": [],
    "deepnote_cell_height": 66,
    "deepnote_to_be_reexecuted": false,
    "source_hash": "24c65c",
    "execution_start": 1645825846596,
    "execution_millis": 18,
    "deepnote_cell_type": "code"
   },
   "source": "df_9=df[['Company', 'Sales','Stores']]\ndf_9=df_9[df_9['Stores'].isnull()]\ndf_9",
   "outputs": [
    {
     "output_type": "execute_result",
     "execution_count": 45,
     "data": {
      "application/vnd.deepnote.dataframe.v3+json": {
       "column_count": 3,
       "row_count": 2,
       "columns": [
        {
         "name": "Company",
         "dtype": "object",
         "stats": {
          "unique_count": 2,
          "nan_count": 0,
          "categories": [
           {
            "name": "Amazon",
            "count": 1
           },
           {
            "name": "Apple incl. Online",
            "count": 1
           }
          ]
         }
        },
        {
         "name": "Sales",
         "dtype": "int64",
         "stats": {
          "unique_count": 2,
          "nan_count": 0,
          "min": "37664",
          "max": "71687",
          "histogram": [
           {
            "bin_start": 37664,
            "bin_end": 41066.3,
            "count": 1
           },
           {
            "bin_start": 41066.3,
            "bin_end": 44468.6,
            "count": 0
           },
           {
            "bin_start": 44468.6,
            "bin_end": 47870.9,
            "count": 0
           },
           {
            "bin_start": 47870.9,
            "bin_end": 51273.2,
            "count": 0
           },
           {
            "bin_start": 51273.2,
            "bin_end": 54675.5,
            "count": 0
           },
           {
            "bin_start": 54675.5,
            "bin_end": 58077.8,
            "count": 0
           },
           {
            "bin_start": 58077.8,
            "bin_end": 61480.100000000006,
            "count": 0
           },
           {
            "bin_start": 61480.100000000006,
            "bin_end": 64882.4,
            "count": 0
           },
           {
            "bin_start": 64882.4,
            "bin_end": 68284.7,
            "count": 0
           },
           {
            "bin_start": 68284.7,
            "bin_end": 71687,
            "count": 1
           }
          ]
         }
        },
        {
         "name": "Stores",
         "dtype": "float64",
         "stats": {
          "unique_count": 0,
          "nan_count": 2,
          "min": null,
          "max": null,
          "histogram": [
           {
            "bin_start": 0,
            "bin_end": 0.1,
            "count": 0
           },
           {
            "bin_start": 0.1,
            "bin_end": 0.2,
            "count": 0
           },
           {
            "bin_start": 0.2,
            "bin_end": 0.30000000000000004,
            "count": 0
           },
           {
            "bin_start": 0.30000000000000004,
            "bin_end": 0.4,
            "count": 0
           },
           {
            "bin_start": 0.4,
            "bin_end": 0.5,
            "count": 0
           },
           {
            "bin_start": 0.5,
            "bin_end": 0.6000000000000001,
            "count": 0
           },
           {
            "bin_start": 0.6000000000000001,
            "bin_end": 0.7000000000000001,
            "count": 0
           },
           {
            "bin_start": 0.7000000000000001,
            "bin_end": 0.8,
            "count": 0
           },
           {
            "bin_start": 0.8,
            "bin_end": 0.9,
            "count": 0
           },
           {
            "bin_start": 0.9,
            "bin_end": 1,
            "count": 0
           }
          ]
         }
        },
        {
         "name": "_deepnote_index_column",
         "dtype": "int64"
        }
       ],
       "rows": [
        {
         "Company": "Amazon",
         "Sales": 71687,
         "Stores": "nan",
         "_deepnote_index_column": 6
        },
        {
         "Company": "Apple incl. Online",
         "Sales": 37664,
         "Stores": "nan",
         "_deepnote_index_column": 11
        }
       ]
      },
      "text/plain": "               Company  Sales  Stores\n6               Amazon  71687     NaN\n11  Apple incl. Online  37664     NaN",
      "text/html": "<div>\n<style scoped>\n    .dataframe tbody tr th:only-of-type {\n        vertical-align: middle;\n    }\n\n    .dataframe tbody tr th {\n        vertical-align: top;\n    }\n\n    .dataframe thead th {\n        text-align: right;\n    }\n</style>\n<table border=\"1\" class=\"dataframe\">\n  <thead>\n    <tr style=\"text-align: right;\">\n      <th></th>\n      <th>Company</th>\n      <th>Sales</th>\n      <th>Stores</th>\n    </tr>\n  </thead>\n  <tbody>\n    <tr>\n      <th>6</th>\n      <td>Amazon</td>\n      <td>71687</td>\n      <td>NaN</td>\n    </tr>\n    <tr>\n      <th>11</th>\n      <td>Apple incl. Online</td>\n      <td>37664</td>\n      <td>NaN</td>\n    </tr>\n  </tbody>\n</table>\n</div>"
     },
     "metadata": {}
    }
   ],
   "execution_count": null
  },
  {
   "cell_type": "markdown",
   "source": "CONCLUSIONES: Como se establecio en el ejercicio N°2 la mayoria de compañias poseen ventas entre 20000 y 70000 Millones de USD, por lo que las ventas en compañias que no poseen tiendas fisicas (Amazon y Apple) no destacan sobre las compañias que tienen tiendas fisicas, ya que sus ventas se encuentran entre este rango.",
   "metadata": {
    "cell_id": "7bffc101-1309-41a0-8f04-75e73f9c7845",
    "tags": [],
    "deepnote_cell_type": "markdown"
   }
  },
  {
   "cell_type": "markdown",
   "source": "## III. Tus propias preguntas",
   "metadata": {
    "cell_id": "58c80612-3fb2-4c71-9aab-813b121430a0",
    "tags": [],
    "deepnote_cell_height": 70,
    "deepnote_cell_type": "markdown"
   }
  },
  {
   "cell_type": "markdown",
   "source": "### 10. ¿Existe alguna relación entre la cantidad de ventas y el número de tiendas según la categoria de los productos de cada compañia?",
   "metadata": {
    "cell_id": "fa60966b-7d95-43f0-9a1e-201f1373f1be",
    "tags": [],
    "deepnote_cell_height": 62,
    "deepnote_cell_type": "markdown"
   }
  },
  {
   "cell_type": "code",
   "metadata": {
    "cell_id": "52ea290f-004f-4aaa-8e1a-0d0908996b0a",
    "tags": [],
    "deepnote_cell_height": 66,
    "deepnote_to_be_reexecuted": false,
    "source_hash": "82d7f0c4",
    "execution_start": 1645833923450,
    "execution_millis": 769,
    "deepnote_cell_type": "code"
   },
   "source": "df_9=df[['Company', 'Sales', 'Stores','Category']]\ns=sns.scatterplot(data=df_9, x = 'Sales', y = 'Stores', hue = 'Category')\ns.set_title('Diagrama de disperción - stores según número de ventas por categoria')\n",
   "outputs": [
    {
     "output_type": "execute_result",
     "execution_count": 143,
     "data": {
      "text/plain": "Text(0.5, 1.0, 'Diagrama de disperción - stores según número de ventas por categoria')"
     },
     "metadata": {}
    },
    {
     "data": {
      "text/plain": "<Figure size 842.4x595.44 with 1 Axes>",
      "image/png": "[encoded data removed]"
     },
     "metadata": {
      "image/png": {
       "width": 728,
       "height": 516
      }
     },
     "output_type": "display_data"
    }
   ],
   "execution_count": null
  },
  {
   "cell_type": "markdown",
   "source": "CONCLUSION: No existe una relación entre el número de tiendas y las ventas que se pueden obtener según la categoria de los productos, de hecho en la grafica de dispersión se observa que diferentes compañias con productos de una misma categoria pueden tener más o menos cantidad de tiendas sin tener una relacion directa en sus ventas.",
   "metadata": {
    "cell_id": "1fb6f261-a5ce-4657-aedd-5526b77dd4d4",
    "tags": [],
    "deepnote_cell_type": "markdown"
   }
  },
  {
   "cell_type": "markdown",
   "source": "### 11. ¿Cuál es el TOP 5 de compañias con mayor y menor número de ventas? A partir de los datos es recomendable crear una compañia en una categoria especifica para obtener mejores ventas?",
   "metadata": {
    "cell_id": "83e0e566-969d-4872-b32d-915ac945a370",
    "tags": [],
    "deepnote_cell_height": 62,
    "deepnote_cell_type": "markdown"
   }
  },
  {
   "cell_type": "code",
   "metadata": {
    "cell_id": "04a6786e-fd39-4b41-b85c-0ecae003e4db",
    "tags": [],
    "deepnote_cell_height": 66,
    "deepnote_to_be_reexecuted": false,
    "source_hash": "67cf34d7",
    "execution_start": 1645827425030,
    "execution_millis": 138,
    "deepnote_cell_type": "code"
   },
   "source": "df_11=df[['Company', 'Sales', 'Category']].sort_values(by=['Sales'], ascending=True)\ndf_11.head(5)",
   "outputs": [
    {
     "output_type": "execute_result",
     "execution_count": 60,
     "data": {
      "application/vnd.deepnote.dataframe.v3+json": {
       "column_count": 3,
       "row_count": 5,
       "columns": [
        {
         "name": "Company",
         "dtype": "object",
         "stats": {
          "unique_count": 5,
          "nan_count": 0,
          "categories": [
           {
            "name": "Meijer",
            "count": 1
           },
           {
            "name": "Delhaize",
            "count": 1
           },
           {
            "name": "3 others",
            "count": 3
           }
          ]
         }
        },
        {
         "name": "Sales",
         "dtype": "int64",
         "stats": {
          "unique_count": 5,
          "nan_count": 0,
          "min": "16592",
          "max": "21464",
          "histogram": [
           {
            "bin_start": 16592,
            "bin_end": 17079.2,
            "count": 1
           },
           {
            "bin_start": 17079.2,
            "bin_end": 17566.4,
            "count": 0
           },
           {
            "bin_start": 17566.4,
            "bin_end": 18053.6,
            "count": 0
           },
           {
            "bin_start": 18053.6,
            "bin_end": 18540.8,
            "count": 1
           },
           {
            "bin_start": 18540.8,
            "bin_end": 19028,
            "count": 0
           },
           {
            "bin_start": 19028,
            "bin_end": 19515.2,
            "count": 1
           },
           {
            "bin_start": 19515.2,
            "bin_end": 20002.4,
            "count": 0
           },
           {
            "bin_start": 20002.4,
            "bin_end": 20489.6,
            "count": 0
           },
           {
            "bin_start": 20489.6,
            "bin_end": 20976.8,
            "count": 0
           },
           {
            "bin_start": 20976.8,
            "bin_end": 21464,
            "count": 2
           }
          ]
         }
        },
        {
         "name": "Category",
         "dtype": "object",
         "stats": {
          "unique_count": 4,
          "nan_count": 0,
          "categories": [
           {
            "name": "Grocery",
            "count": 2
           },
           {
            "name": "Supercenters",
            "count": 1
           },
           {
            "name": "2 others",
            "count": 2
           }
          ]
         }
        },
        {
         "name": "_deepnote_index_column",
         "dtype": "int64"
        }
       ],
       "rows": [
        {
         "Company": "Meijer",
         "Sales": 16592,
         "Category": "Supercenters",
         "_deepnote_index_column": 24
        },
        {
         "Company": "Delhaize",
         "Sales": 18201,
         "Category": "Grocery",
         "_deepnote_index_column": 23
        },
        {
         "Company": "Kohl's",
         "Sales": 19060,
         "Category": "Department Stores",
         "_deepnote_index_column": 22
        },
        {
         "Company": "HEB",
         "Sales": 21384,
         "Category": "Grocery",
         "_deepnote_index_column": 21
        },
        {
         "Company": "Dollar Tree",
         "Sales": 21464,
         "Category": "Dollar Stores",
         "_deepnote_index_column": 20
        }
       ]
      },
      "text/plain": "        Company  Sales           Category\n24       Meijer  16592       Supercenters\n23     Delhaize  18201            Grocery\n22       Kohl's  19060  Department Stores\n21          HEB  21384            Grocery\n20  Dollar Tree  21464      Dollar Stores",
      "text/html": "<div>\n<style scoped>\n    .dataframe tbody tr th:only-of-type {\n        vertical-align: middle;\n    }\n\n    .dataframe tbody tr th {\n        vertical-align: top;\n    }\n\n    .dataframe thead th {\n        text-align: right;\n    }\n</style>\n<table border=\"1\" class=\"dataframe\">\n  <thead>\n    <tr style=\"text-align: right;\">\n      <th></th>\n      <th>Company</th>\n      <th>Sales</th>\n      <th>Category</th>\n    </tr>\n  </thead>\n  <tbody>\n    <tr>\n      <th>24</th>\n      <td>Meijer</td>\n      <td>16592</td>\n      <td>Supercenters</td>\n    </tr>\n    <tr>\n      <th>23</th>\n      <td>Delhaize</td>\n      <td>18201</td>\n      <td>Grocery</td>\n    </tr>\n    <tr>\n      <th>22</th>\n      <td>Kohl's</td>\n      <td>19060</td>\n      <td>Department Stores</td>\n    </tr>\n    <tr>\n      <th>21</th>\n      <td>HEB</td>\n      <td>21384</td>\n      <td>Grocery</td>\n    </tr>\n    <tr>\n      <th>20</th>\n      <td>Dollar Tree</td>\n      <td>21464</td>\n      <td>Dollar Stores</td>\n    </tr>\n  </tbody>\n</table>\n</div>"
     },
     "metadata": {}
    }
   ],
   "execution_count": null
  },
  {
   "cell_type": "code",
   "source": "df_11=df[['Company', 'Sales', 'Category']].sort_values(by=['Sales'], ascending=False)\ndf_11.head(5)",
   "metadata": {
    "cell_id": "d53799ef-549b-488c-b298-a76594b81116",
    "tags": [],
    "deepnote_to_be_reexecuted": false,
    "source_hash": "313130e3",
    "execution_start": 1645827475121,
    "execution_millis": 125,
    "deepnote_cell_type": "code"
   },
   "outputs": [
    {
     "output_type": "execute_result",
     "execution_count": 61,
     "data": {
      "application/vnd.deepnote.dataframe.v3+json": {
       "column_count": 3,
       "row_count": 5,
       "columns": [
        {
         "name": "Company",
         "dtype": "object",
         "stats": {
          "unique_count": 5,
          "nan_count": 0,
          "categories": [
           {
            "name": "Walmart US",
            "count": 1
           },
           {
            "name": "Kroger",
            "count": 1
           },
           {
            "name": "3 others",
            "count": 3
           }
          ]
         }
        },
        {
         "name": "Sales",
         "dtype": "int64",
         "stats": {
          "unique_count": 5,
          "nan_count": 0,
          "min": "78924",
          "max": "658119",
          "histogram": [
           {
            "bin_start": 78924,
            "bin_end": 136843.5,
            "count": 4
           },
           {
            "bin_start": 136843.5,
            "bin_end": 194763,
            "count": 0
           },
           {
            "bin_start": 194763,
            "bin_end": 252682.5,
            "count": 0
           },
           {
            "bin_start": 252682.5,
            "bin_end": 310602,
            "count": 0
           },
           {
            "bin_start": 310602,
            "bin_end": 368521.5,
            "count": 0
           },
           {
            "bin_start": 368521.5,
            "bin_end": 426441,
            "count": 0
           },
           {
            "bin_start": 426441,
            "bin_end": 484360.5,
            "count": 0
           },
           {
            "bin_start": 484360.5,
            "bin_end": 542280,
            "count": 0
           },
           {
            "bin_start": 542280,
            "bin_end": 600199.5,
            "count": 0
           },
           {
            "bin_start": 600199.5,
            "bin_end": 658119,
            "count": 1
           }
          ]
         }
        },
        {
         "name": "Category",
         "dtype": "object",
         "stats": {
          "unique_count": 5,
          "nan_count": 0,
          "categories": [
           {
            "name": "Supercenters",
            "count": 1
           },
           {
            "name": "Grocery",
            "count": 1
           },
           {
            "name": "3 others",
            "count": 3
           }
          ]
         }
        },
        {
         "name": "_deepnote_index_column",
         "dtype": "int64"
        }
       ],
       "rows": [
        {
         "Company": "Walmart US",
         "Sales": 658119,
         "Category": "Supercenters",
         "_deepnote_index_column": 0
        },
        {
         "Company": "Kroger",
         "Sales": 115037,
         "Category": "Grocery",
         "_deepnote_index_column": 1
        },
        {
         "Company": "Costco",
         "Sales": 90048,
         "Category": "Warehouse Club",
         "_deepnote_index_column": 2
        },
        {
         "Company": "Home Depot",
         "Sales": 83976,
         "Category": "Home Improvement",
         "_deepnote_index_column": 3
        },
        {
         "Company": "Walgreen Boots",
         "Sales": 78924,
         "Category": "Drug Stores",
         "_deepnote_index_column": 4
        }
       ]
      },
      "text/plain": "          Company   Sales          Category\n0      Walmart US  658119      Supercenters\n1          Kroger  115037           Grocery\n2          Costco   90048    Warehouse Club\n3      Home Depot   83976  Home Improvement\n4  Walgreen Boots   78924       Drug Stores",
      "text/html": "<div>\n<style scoped>\n    .dataframe tbody tr th:only-of-type {\n        vertical-align: middle;\n    }\n\n    .dataframe tbody tr th {\n        vertical-align: top;\n    }\n\n    .dataframe thead th {\n        text-align: right;\n    }\n</style>\n<table border=\"1\" class=\"dataframe\">\n  <thead>\n    <tr style=\"text-align: right;\">\n      <th></th>\n      <th>Company</th>\n      <th>Sales</th>\n      <th>Category</th>\n    </tr>\n  </thead>\n  <tbody>\n    <tr>\n      <th>0</th>\n      <td>Walmart US</td>\n      <td>658119</td>\n      <td>Supercenters</td>\n    </tr>\n    <tr>\n      <th>1</th>\n      <td>Kroger</td>\n      <td>115037</td>\n      <td>Grocery</td>\n    </tr>\n    <tr>\n      <th>2</th>\n      <td>Costco</td>\n      <td>90048</td>\n      <td>Warehouse Club</td>\n    </tr>\n    <tr>\n      <th>3</th>\n      <td>Home Depot</td>\n      <td>83976</td>\n      <td>Home Improvement</td>\n    </tr>\n    <tr>\n      <th>4</th>\n      <td>Walgreen Boots</td>\n      <td>78924</td>\n      <td>Drug Stores</td>\n    </tr>\n  </tbody>\n</table>\n</div>"
     },
     "metadata": {}
    }
   ],
   "execution_count": null
  },
  {
   "cell_type": "markdown",
   "source": "CONCLUSION: A partir de las tablas generadas se puede observar que compañias en las categorias de 'Groceriy' y 'Supercenters´se encuentran tanto en las de mayores ventas como en las de menores, por lo que no hay una relación entre estas categorias y las ventas. Además, se encuentran otras categorias propias tanto del TOP 5 de mayores ventas como el TOP 5 de peores ventas, sin embargo, debido a la muestra de compañias analizadas no es posible generar una respuesta certera acerca de que categoria sería mejor implementar para obtener mejores ventas.",
   "metadata": {
    "cell_id": "64fd8a7f-5b43-4f5e-afaf-4317d8768601",
    "tags": [],
    "deepnote_cell_type": "markdown"
   }
  },
  {
   "cell_type": "markdown",
   "source": "### 12. Sin tener en cuenta la compañia dominante ¿Qué categoria genera el mayor número de ventas? ¿Cuál es el porcentaje de influencia en las ventas globales por cada categoria?",
   "metadata": {
    "cell_id": "d5a17c31-5e8f-4d67-9679-c5705053de69",
    "tags": [],
    "deepnote_cell_height": 62,
    "deepnote_cell_type": "markdown"
   }
  },
  {
   "cell_type": "code",
   "metadata": {
    "cell_id": "b168ad4f-adf7-4f82-9126-461a1fc64b84",
    "tags": [],
    "deepnote_cell_height": 66,
    "deepnote_to_be_reexecuted": false,
    "source_hash": "258d0fd8",
    "execution_start": 1645828773778,
    "execution_millis": 46,
    "deepnote_cell_type": "code"
   },
   "source": "df_12 = df[['Category', 'Sales']]\ndf_12 = df_12.groupby('Category').agg({'Sales': np.sum}).sort_values(by='Sales', ascending=False)\ndf_12 = df_12.iloc[1::]\ndf_12=df_12.reset_index()\ndf_12",
   "outputs": [
    {
     "output_type": "execute_result",
     "execution_count": 74,
     "data": {
      "application/vnd.deepnote.dataframe.v3+json": {
       "column_count": 2,
       "row_count": 10,
       "columns": [
        {
         "name": "Category",
         "dtype": "object",
         "stats": {
          "unique_count": 10,
          "nan_count": 0,
          "categories": [
           {
            "name": "Grocery",
            "count": 1
           },
           {
            "name": "Drug Stores",
            "count": 1
           },
           {
            "name": "8 others",
            "count": 8
           }
          ]
         }
        },
        {
         "name": "Sales",
         "dtype": "int64",
         "stats": {
          "unique_count": 10,
          "nan_count": 0,
          "min": "25012",
          "max": "297164",
          "histogram": [
           {
            "bin_start": 25012,
            "bin_end": 52227.2,
            "count": 4
           },
           {
            "bin_start": 52227.2,
            "bin_end": 79442.4,
            "count": 2
           },
           {
            "bin_start": 79442.4,
            "bin_end": 106657.6,
            "count": 1
           },
           {
            "bin_start": 106657.6,
            "bin_end": 133872.8,
            "count": 0
           },
           {
            "bin_start": 133872.8,
            "bin_end": 161088,
            "count": 1
           },
           {
            "bin_start": 161088,
            "bin_end": 188303.2,
            "count": 1
           },
           {
            "bin_start": 188303.2,
            "bin_end": 215518.4,
            "count": 0
           },
           {
            "bin_start": 215518.4,
            "bin_end": 242733.6,
            "count": 0
           },
           {
            "bin_start": 242733.6,
            "bin_end": 269948.80000000005,
            "count": 0
           },
           {
            "bin_start": 269948.80000000005,
            "bin_end": 297164,
            "count": 1
           }
          ]
         }
        },
        {
         "name": "_deepnote_index_column",
         "dtype": "int64"
        }
       ],
       "rows": [
        {
         "Category": "Grocery",
         "Sales": 297164,
         "_deepnote_index_column": 0
        },
        {
         "Category": "Drug Stores",
         "Sales": 184202,
         "_deepnote_index_column": 1
        },
        {
         "Category": "Home Improvement",
         "Sales": 144287,
         "_deepnote_index_column": 2
        },
        {
         "Category": "Warehouse Club",
         "Sales": 90048,
         "_deepnote_index_column": 3
        },
        {
         "Category": "Electronic/Mail Order",
         "Sales": 71687,
         "_deepnote_index_column": 4
        },
        {
         "Category": "Warehouse Clubs",
         "Sales": 56828,
         "_deepnote_index_column": 5
        },
        {
         "Category": "Department Stores",
         "Sales": 45088,
         "_deepnote_index_column": 6
        },
        {
         "Category": "Dollar Stores",
         "Sales": 43698,
         "_deepnote_index_column": 7
        },
        {
         "Category": "Electronics",
         "Sales": 34980,
         "_deepnote_index_column": 8
        },
        {
         "Category": "Apparel",
         "Sales": 25012,
         "_deepnote_index_column": 9
        }
       ]
      },
      "text/plain": "                Category   Sales\n0                Grocery  297164\n1            Drug Stores  184202\n2       Home Improvement  144287\n3         Warehouse Club   90048\n4  Electronic/Mail Order   71687\n5        Warehouse Clubs   56828\n6      Department Stores   45088\n7          Dollar Stores   43698\n8            Electronics   34980\n9                Apparel   25012",
      "text/html": "<div>\n<style scoped>\n    .dataframe tbody tr th:only-of-type {\n        vertical-align: middle;\n    }\n\n    .dataframe tbody tr th {\n        vertical-align: top;\n    }\n\n    .dataframe thead th {\n        text-align: right;\n    }\n</style>\n<table border=\"1\" class=\"dataframe\">\n  <thead>\n    <tr style=\"text-align: right;\">\n      <th></th>\n      <th>Category</th>\n      <th>Sales</th>\n    </tr>\n  </thead>\n  <tbody>\n    <tr>\n      <th>0</th>\n      <td>Grocery</td>\n      <td>297164</td>\n    </tr>\n    <tr>\n      <th>1</th>\n      <td>Drug Stores</td>\n      <td>184202</td>\n    </tr>\n    <tr>\n      <th>2</th>\n      <td>Home Improvement</td>\n      <td>144287</td>\n    </tr>\n    <tr>\n      <th>3</th>\n      <td>Warehouse Club</td>\n      <td>90048</td>\n    </tr>\n    <tr>\n      <th>4</th>\n      <td>Electronic/Mail Order</td>\n      <td>71687</td>\n    </tr>\n    <tr>\n      <th>5</th>\n      <td>Warehouse Clubs</td>\n      <td>56828</td>\n    </tr>\n    <tr>\n      <th>6</th>\n      <td>Department Stores</td>\n      <td>45088</td>\n    </tr>\n    <tr>\n      <th>7</th>\n      <td>Dollar Stores</td>\n      <td>43698</td>\n    </tr>\n    <tr>\n      <th>8</th>\n      <td>Electronics</td>\n      <td>34980</td>\n    </tr>\n    <tr>\n      <th>9</th>\n      <td>Apparel</td>\n      <td>25012</td>\n    </tr>\n  </tbody>\n</table>\n</div>"
     },
     "metadata": {}
    }
   ],
   "execution_count": null
  },
  {
   "cell_type": "code",
   "source": "# Create a pieplot\nplt.pie(df_12['Sales'], labels=df_12['Category'], autopct='%.1f%%')\n\n# add a circle at the center to transform it in a donut chart\nmy_circle=plt.Circle( (0,0), 0.7, color='white')\np=plt.gcf()\np.gca().add_artist(my_circle)\nplt.title('% del total de ventas según categoria')\n\nplt.show()",
   "metadata": {
    "cell_id": "58d0c441-1f67-4c2a-954a-19a88092971b",
    "tags": [],
    "deepnote_to_be_reexecuted": false,
    "source_hash": "4b686b35",
    "execution_start": 1645834630243,
    "execution_millis": 298,
    "deepnote_cell_type": "code"
   },
   "outputs": [
    {
     "data": {
      "text/plain": "<Figure size 842.4x595.44 with 1 Axes>",
      "image/png": "[encoded data removed]"
     },
     "metadata": {
      "image/png": {
       "width": 561,
       "height": 479
      }
     },
     "output_type": "display_data"
    }
   ],
   "execution_count": null
  },
  {
   "cell_type": "markdown",
   "source": "CONCLUSION: Como se observa en la grafica de dona existen 2 categorias que poseen cerca de la mitad de ventas en Millones de USD en el mercado (48.5%), estas son 'Grocery' y 'Drug Stores', donde la que mayores ventas posee es grocery con 297164 Millones de USD, como se logra observar en la tabla de agregación de ventas por categoria. La categoria con menor número de ventas es 'Apparel' con tan solo 2.5% en el mercado. \n",
   "metadata": {
    "cell_id": "b5837a45-bee0-43f5-a359-b91c799d557e",
    "tags": [],
    "deepnote_cell_type": "markdown"
   }
  },
  {
   "cell_type": "markdown",
   "source": "<a style='text-decoration:none;line-height:16px;display:flex;color:#5B5B62;padding:10px;justify-content:end;' href='https://deepnote.com?utm_source=created-in-deepnote-cell&projectId=9cc316be-ef5c-4741-b424-7a914f1ea4bd' target=\"_blank\">\n<img alt='Created in deepnote.com' style='display:inline;max-height:16px;margin:0px;margin-right:7.5px;' src='data:image/svg+xml;base64,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' > </img>\nCreated in <span style='font-weight:600;margin-left:4px;'>Deepnote</span></a>",
   "metadata": {
    "tags": [],
    "created_in_deepnote_cell": true,
    "deepnote_cell_type": "markdown"
   }
  }
 ],
 "nbformat": 4,
 "nbformat_minor": 2,
 "metadata": {
  "orig_nbformat": 2,
  "deepnote": {
   "is_reactive": false
  },
  "deepnote_notebook_id": "85b76ea9-ace4-4c85-8b21-59120be91703",
  "deepnote_execution_queue": []
 }
}